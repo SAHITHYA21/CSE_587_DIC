{
 "cells": [
  {
   "cell_type": "markdown",
   "id": "51a6ec50-bc87-4118-8984-98517be93e5b",
   "metadata": {},
   "source": [
    "### Part-2 Implement and analyze Dijakstra’s Shortest Path algorithm.\n",
    "1. You must write a basic Dijakstra’s shortest path algorithm for the two text files that \n",
    "were generated (question2_1.txt and question2_2.txt). Where the first column of each \n",
    "row is the initial node, the second column of each row is the destination, and the third \n",
    "column is the weight associated with the connection.\n",
    "2. The algorithm should read both the files and compute the shortest path between the first \n",
    "node to all the other nodes and save them in a text file named output_2.txt.\n",
    "3. Find the nodes with the greatest and the least distance from the starting node and\n",
    "provide a screenshot of the same."
   ]
  },
  {
   "cell_type": "code",
   "execution_count": 1,
   "id": "c9f1408b-1d0a-444d-8f04-9f3e72a03862",
   "metadata": {},
   "outputs": [
    {
     "name": "stdout",
     "output_type": "stream",
     "text": [
      "Adjacency list size: 99\n",
      "Source node:  0\n",
      "4\n",
      "[(0, 0), (2, 3), (4, 9), (6, 11), (8, 8), (10, 10), (12, 13), (14, 10), (16, 9), (18, 11), (20, 10), (22, 4), (24, 5), (26, 10), (28, 7), (30, 11), (32, 12), (34, 9), (36, 8), (38, 7), (40, 9), (42, 10), (44, 14), (46, 4), (48, 10), (50, 11), (52, 11), (54, 9), (56, 8), (58, 10), (60, 6), (62, 9), (64, 8), (66, 9), (68, 5), (70, 9), (72, 9), (74, 6), (76, 8), (78, 8), (80, 9), (82, 7), (84, 4), (86, 9), (88, 10), (90, 9), (92, 8), (94, 6), (96, 7), (98, 7), (1, 12), (3, 8), (5, 8), (7, 9), (9, 6), (11, 12), (13, 10), (15, 13), (17, 13), (19, 11), (21, 5), (23, 12), (25, 8), (27, 9), (29, 8), (31, 10), (33, 8), (35, 4), (37, 9), (39, 4), (41, 7), (43, 13), (45, 11), (47, 7), (49, 10), (51, 8), (53, 8), (55, 7), (57, 7), (59, 7), (61, 8), (63, 8), (65, 11), (67, 9), (69, 6), (71, 9), (73, 6), (75, 4), (77, 8), (79, 6), (81, 9), (83, 10), (85, 6), (87, 6), (89, 8), (91, 9), (93, 7), (95, 5), (97, 8), (99, 9)]\n",
      "Node with greatest distance from source node 0 to 44 is: 14\n",
      "Node with least distance from source node  0 to 2 is: 3\n"
     ]
    }
   ],
   "source": [
    "from pyspark import SparkContext, SparkConf\n",
    "import sys\n",
    "import os\n",
    "\n",
    "#Set environment variables for PySpark to use Python\n",
    "os.environ['PYSPARK_PYTHON']='python'\n",
    "os.environ['PYSPARK_DRIVER_PYTHON']='python'\n",
    "\n",
    "#Splitting the lines of file into parts (node, neighbor and weight)\n",
    "def parse_line(line):\n",
    "    parts=line.strip().split()\n",
    "    node=int(parts[0].strip(','))\n",
    "    neighbor=int(parts[1].strip(','))\n",
    "    weight=int(parts[2].strip(','))\n",
    "    return node,(neighbor,weight)\n",
    "\n",
    "#Parsing the input edge list and creating adjacency lists\n",
    "def initialize_graph(input_paths,sc):\n",
    "    #Converting the input files line into (node, (neighbor, weight)) form\n",
    "    edges=sc.textFile(input_paths[0]).map(parse_line)\n",
    "    for input_path in input_paths[1:]:\n",
    "        edges=edges.union(sc.textFile(input_path).map(parse_line))\n",
    "    \n",
    "    #Added the weights if source and destination nodes match and reformatting to (node, (neighbor, weight))\n",
    "    edges=edges.map(lambda x: ((x[0],x[1][0]),x[1][1])).reduceByKey(lambda x, y: x + y).map(lambda x: (x[0][0], (x[0][1], x[1])))\n",
    "    \n",
    "    #print(edges.collect())\n",
    "    #Creating adjacency list\n",
    "    adjacency_list=edges.groupByKey().mapValues(list)\n",
    "    print(\"Adjacency list size:\", len(adjacency_list.collect()))\n",
    "    \n",
    "    #Initializing all nodes with distance as infinity except the source\n",
    "    return adjacency_list.map(lambda x: (x[0], (float('inf'), x[1])))\n",
    "\n",
    "#Emitting the distance updates for each neighbor\n",
    "def mapper(node,distance_neighbors):\n",
    "    distance,neighbors= distance_neighbors\n",
    "    results=[(node,(distance,neighbors))]\n",
    "    for neighbor,weight in neighbors:\n",
    "        results.append((neighbor,(distance+weight, [])))\n",
    "    return results\n",
    "\n",
    "#Combining distances and adjacency lists, keeping the shortest distance\n",
    "def reducer(data1,data2):\n",
    "    distance1,neighbors1=data1\n",
    "    distance2,neighbors2=data2\n",
    "    return min(distance1,distance2),neighbors1+neighbors2\n",
    "\n",
    "#Formatting the output\n",
    "def format_output(node,distance_neighbors):\n",
    "    distance,_=distance_neighbors\n",
    "    return node,distance\n",
    "\n",
    "#Dijkstra's algorithm\n",
    "def dijkstra(sc,input_paths,output_path):\n",
    "    nodes_rdd=initialize_graph(input_paths,sc)\n",
    "    \n",
    "    #Getting the first node as source node\n",
    "    source=nodes_rdd.keys().first()\n",
    "    print(\"Source node: \",source)\n",
    "    \n",
    "    #Set the distance of the source node to 0\n",
    "    nodes_rdd=nodes_rdd.map(lambda x: (x[0],(0,x[1][1])) if x[0]==source else x)\n",
    "    \n",
    "    # Dijkstra's algorithm iteration\n",
    "    converged=False\n",
    "    i =0 \n",
    "    while not converged:\n",
    "        mapped=nodes_rdd.flatMap(lambda x:mapper(x[0],x[1]))\n",
    "        reduced=mapped.reduceByKey(reducer)\n",
    "        converged=nodes_rdd.join(reduced).map(lambda x:x[1][0]==x[1][1]).reduce(lambda a,b: a and b)\n",
    "        i = i+1\n",
    "        nodes_rdd=reduced\n",
    "    \n",
    "    # Formatting the output as (node, distance)\n",
    "    print(i)\n",
    "    results=nodes_rdd.map(lambda x: format_output(x[0],x[1]))\n",
    "    data=results.collect()\n",
    "    print(data)\n",
    "    \n",
    "    #Write the output to a output_2.txt\n",
    "    with open(output_path,'w',encoding='utf-8') as file:\n",
    "        for node,distance in data:\n",
    "            file.write(f'{node}\\t{distance}\\n')\n",
    "    \n",
    "    #Finding the nodes with the greatest and least distance from source\n",
    "    max_node=results.max(lambda x:x[1])\n",
    "    min_node=results.filter(lambda x:x[1]>0).min(lambda x:x[1])\n",
    "    \n",
    "    print(\"Node with greatest distance from source node\", source, \"to\", max_node[0], \"is:\", max_node[1])\n",
    "    print(\"Node with least distance from source node \", source, \"to\", min_node[0], \"is:\", min_node[1])\n",
    "\n",
    "try:\n",
    "    sc.stop()\n",
    "except NameError:\n",
    "    pass\n",
    "\n",
    "#Setting up the Spark context\n",
    "conf=SparkConf().setAppName(\"Dijkstra\").setMaster(\"local\").set(\"spark.pyspark.python\", \"python\").set(\"spark.pyspark.driver.python\", \"python\")\n",
    "sc=SparkContext(conf=conf)\n",
    "input_paths = [\"question2_1.txt\", \"question2_2.txt\"]\n",
    "output_path = \"output_2.txt\"\n",
    "\n",
    "dijkstra(sc, input_paths, output_path)\n"
   ]
  },
  {
   "cell_type": "code",
   "execution_count": 3,
   "id": "4629526b-2e85-4dc1-9e8f-eb8b69970e42",
   "metadata": {},
   "outputs": [],
   "source": [
    "sc.stop()"
   ]
  },
  {
   "cell_type": "code",
   "execution_count": 2,
   "id": "aa96294e-c484-4d38-a976-6a6052526f03",
   "metadata": {},
   "outputs": [
    {
     "data": {
      "text/html": [
       "\n",
       "        <div>\n",
       "            <p><b>SparkContext</b></p>\n",
       "\n",
       "            <p><a href=\"http://Siri.lan:4040\">Spark UI</a></p>\n",
       "\n",
       "            <dl>\n",
       "              <dt>Version</dt>\n",
       "                <dd><code>v3.5.3</code></dd>\n",
       "              <dt>Master</dt>\n",
       "                <dd><code>local</code></dd>\n",
       "              <dt>AppName</dt>\n",
       "                <dd><code>Dijkstra</code></dd>\n",
       "            </dl>\n",
       "        </div>\n",
       "        "
      ],
      "text/plain": [
       "<SparkContext master=local appName=Dijkstra>"
      ]
     },
     "execution_count": 2,
     "metadata": {},
     "output_type": "execute_result"
    }
   ],
   "source": [
    "sc"
   ]
  },
  {
   "cell_type": "code",
   "execution_count": null,
   "id": "9d567a4b-c138-4902-aef8-2f3a4d25ec74",
   "metadata": {},
   "outputs": [],
   "source": []
  }
 ],
 "metadata": {
  "kernelspec": {
   "display_name": "Python 3 (ipykernel)",
   "language": "python",
   "name": "python3"
  },
  "language_info": {
   "codemirror_mode": {
    "name": "ipython",
    "version": 3
   },
   "file_extension": ".py",
   "mimetype": "text/x-python",
   "name": "python",
   "nbconvert_exporter": "python",
   "pygments_lexer": "ipython3",
   "version": "3.9.13"
  }
 },
 "nbformat": 4,
 "nbformat_minor": 5
}
